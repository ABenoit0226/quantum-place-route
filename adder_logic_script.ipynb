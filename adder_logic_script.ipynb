{
 "cells": [
  {
   "cell_type": "code",
   "execution_count": 2,
   "metadata": {},
   "outputs": [],
   "source": [
    "from qiskit import *\n",
    "from qiskit import QuantumRegister\n",
    "from qiskit import QuantumRegister, ClassicalRegister\n",
    "from qiskit import QuantumCircuit, execute, IBMQ\n",
    "import matplotlib as mpl\n",
    "import random\n",
    "import pylatexenc\n"
   ]
  },
  {
   "cell_type": "markdown",
   "metadata": {},
   "source": [
    "# Logic Gates"
   ]
  },
  {
   "cell_type": "code",
   "execution_count": 3,
   "metadata": {},
   "outputs": [],
   "source": [
    "IBMQ.load_account()\n",
    "provider = IBMQ.get_provider(hub=\"ibm-q\")"
   ]
  },
  {
   "cell_type": "code",
   "execution_count": 24,
   "metadata": {},
   "outputs": [],
   "source": [
    "##\n",
    "##  A class to wrap the qiskit QuantumCircuit\n",
    "##    It can allocate registers in sequence, which is very useful\n",
    "##\n",
    "class QC:\n",
    "    def __init__(self, genBarriers=True):\n",
    "        self.regNum = 0\n",
    "        self.genBarriers = genBarriers\n",
    "        self.qc = QuantumCircuit()\n",
    "        self.falseBit = self.addReg('false')\n",
    "        self.trueBit  = self.addReg('true')\n",
    "        self.qc.x(self.trueBit)\n",
    "        \n",
    "    \n",
    "    def addReg(self, prefix=\"\"):\n",
    "        name = self.get_name(prefix)\n",
    "        result = QuantumRegister(1, name)\n",
    "        self.qc.add_register(result)\n",
    "        return result\n",
    "\n",
    "    def barrier(self):\n",
    "        if self.genBarriers:\n",
    "            self.qc.barrier()\n",
    "\n",
    "    def em(self, shots=512):\n",
    "        em = BasicAer.get_backend(\"qasm_simulator\")\n",
    "        job = execute(self.qc, em, shots=shots)\n",
    "        hist = job.result().get_counts()\n",
    "        return hist\n",
    "    \n",
    "    def sv(self):\n",
    "        svs = BasicAer.get_backend(\"statevector_simulator\")\n",
    "        job = execute(self.qc, svs)\n",
    "        ket = job.result().get_statevector()\n",
    "        return ket\n",
    "    \n",
    "    def get_name(self, prefix=\"\"):\n",
    "        name = prefix+\"_\"+str(self.regNum)\n",
    "        self.regNum+=1\n",
    "        return name\n",
    "    \n",
    "    def genOutput(self, reg, name):\n",
    "        reg = reg if reg else self.addReg(name)\n",
    "        return reg\n",
    "    \n",
    "    def qand(self, bit1, bit2, output=None):\n",
    "        output = self.genOutput(output, \"and\")\n",
    "        self.barrier()\n",
    "        self.qc.ccx(bit1, bit2, output)\n",
    "        self.barrier()\n",
    "        return output\n",
    "\n",
    "\n",
    "    def qor(self, bit1, bit2, output=None):\n",
    "        output = self.genOutput(output, \"or\")\n",
    "        self.barrier()\n",
    "        self.qc.cx(bit1, output)\n",
    "        self.qc.cx(bit2, output)\n",
    "        self.qc.ccx(bit1, bit2, output)\n",
    "        self.barrier()\n",
    "        return output\n",
    "    \n",
    "    def qxor(self, bit1, bit2, output=None):\n",
    "        output = self.genOutput(output, \"xor\")\n",
    "        self.barrier()\n",
    "        self.qc.cx(bit1, output)\n",
    "        self.qc.cx(bit2, output)\n",
    "        self.barrier()\n",
    "        return output\n",
    "\n",
    "    def qnot(self, bit, output=None):\n",
    "        output = self.genOutput(output, \"not\")\n",
    "        self.barrier()\n",
    "        self.qc.x(bit)\n",
    "        self.qc.cx(bit, output)\n",
    "        self.qc.x(bit)\n",
    "        self.barrier()\n",
    "        return output\n",
    "\n",
    "    def qnand(self, bit1, bit2, output=None):\n",
    "        output = self.genOutput(output, \"nand\")\n",
    "        self.barrier()\n",
    "        self.qc.ccx(bit1, bit2, output)\n",
    "        self.qc.x(output)\n",
    "        self.barrier()\n",
    "        return output\n",
    "    \n",
    "    \n",
    "    def draw(self, output='mpl'):\n",
    "        return self.qc.draw(output=output)\n",
    "\n",
    "##\n",
    "##  Create integers and sums for the supplied quantum circuit\n",
    "##\n",
    "class QArith:\n",
    "    def __init__(self, qc, width):\n",
    "        self.qc = qc\n",
    "        self.width = width\n",
    "\n",
    "##\n",
    "##  Create the supplied value on the quantum circuit\n",
    "##     returns the list of quantum registers (least significant bit first)\n",
    "##        that represent the value\n",
    "##\n",
    "    def qint(self, val):\n",
    "        bitVal = []\n",
    "        a = 1\n",
    "        for i in range(self.width):\n",
    "            t = self.qc.addReg(\"qint(\"+str(val)+\")\")\n",
    "            if val & a:\n",
    "                qc.qc.x(t)\n",
    "            a = a << 1\n",
    "            bitVal.append(t)\n",
    "        return bitVal\n",
    "    \n",
    "# class Adder(QC):\n",
    "#     def __init__(self, width):\n",
    "#         super().__init__()\n",
    "#         self.width = width\n",
    "\n",
    "#     def adder_func(self, bit0, bit1,  cIn = QuantumRegister(1, self.get_name(self))):\n",
    "        \n",
    "#         cOut = QuantumRegister(1, self.get_name(self))\n",
    "#         sum = QuantumRegister(1, self.get_name(self))\n",
    "#         self.qc.add_register(cIn)\n",
    "#         self.qc.add_register(sum)\n",
    "#         self.qc.add_register(cOut)\n",
    "#         self.qc.cx(bit0, sum)\n",
    "#         self.qc.cx(bit1, sum)\n",
    "#         self.qc.cx(cIn, sum)\n",
    "        \n",
    "#         cOut = self.or_qbit(self.qc, self.or_qbit(self.qc, self.and_qbit(self.qc, bit0, bit1), self.and_qbit(self.qc, bit1, cIn)), self.and_qbit(self.qc, bit0, cIn))\n",
    "\n",
    "#         return sum, cOut\n",
    "\n",
    "    \n",
    "    "
   ]
  },
  {
   "cell_type": "code",
   "execution_count": 26,
   "metadata": {},
   "outputs": [
    {
     "name": "stdout",
     "output_type": "stream",
     "text": [
      "[QuantumRegister(1, 'qint(13)_2'), QuantumRegister(1, 'qint(13)_3'), QuantumRegister(1, 'qint(13)_4'), QuantumRegister(1, 'qint(13)_5'), QuantumRegister(1, 'qint(13)_6')]\n"
     ]
    },
    {
     "data": {
      "image/png": "[encoded data removed]",
      "text/plain": [
       "<Figure size 229.451x445.48 with 1 Axes>"
      ]
     },
     "execution_count": 26,
     "metadata": {},
     "output_type": "execute_result"
    }
   ],
   "source": [
    "qc = QC()\n",
    "qi = QArith(qc, 5).qint(13)\n",
    "# r = qc.qand(qc.trueBit,qc.falseBit)\n",
    "# qc.qxor(qc.qor(qc.qnand(qc.qnot(r),r),qc.trueBit),r)\n",
    "print(qi)\n",
    "qc.draw()\n"
   ]
  },
  {
   "cell_type": "markdown",
   "metadata": {},
   "source": [
    "# Recursive Circuit Gate Method Calls"
   ]
  },
  {
   "cell_type": "markdown",
   "metadata": {},
   "source": [
    "Trying the adder circuit from the S = a + b + c"
   ]
  },
  {
   "cell_type": "code",
   "execution_count": null,
   "metadata": {},
   "outputs": [],
   "source": [
    "\n",
    "\n",
    "\n"
   ]
  },
  {
   "cell_type": "code",
   "execution_count": 27,
   "metadata": {},
   "outputs": [
    {
     "ename": "CircuitError",
     "evalue": "'register name \"q25\" already exists'",
     "output_type": "error",
     "traceback": [
      "\u001b[0;31m---------------------------------------------------------------------------\u001b[0m",
      "\u001b[0;31mCircuitError\u001b[0m                              Traceback (most recent call last)",
      "\u001b[0;32m<ipython-input-27-8b1099c11087>\u001b[0m in \u001b[0;36m<module>\u001b[0;34m\u001b[0m\n\u001b[1;32m     43\u001b[0m \u001b[0;34m\u001b[0m\u001b[0m\n\u001b[1;32m     44\u001b[0m \u001b[0;34m\u001b[0m\u001b[0m\n\u001b[0;32m---> 45\u001b[0;31m \u001b[0mqc4\u001b[0m\u001b[0;34m.\u001b[0m\u001b[0mmeasure\u001b[0m\u001b[0;34m(\u001b[0m\u001b[0mor_qbit\u001b[0m\u001b[0;34m(\u001b[0m\u001b[0mqc4\u001b[0m\u001b[0;34m,\u001b[0m \u001b[0mor_qbit\u001b[0m\u001b[0;34m(\u001b[0m\u001b[0mqc4\u001b[0m\u001b[0;34m,\u001b[0m \u001b[0mand_qbit\u001b[0m\u001b[0;34m(\u001b[0m\u001b[0mqc4\u001b[0m\u001b[0;34m,\u001b[0m \u001b[0mq\u001b[0m\u001b[0;34m[\u001b[0m\u001b[0;36m0\u001b[0m\u001b[0;34m]\u001b[0m\u001b[0;34m,\u001b[0m \u001b[0mq\u001b[0m\u001b[0;34m[\u001b[0m\u001b[0;36m1\u001b[0m\u001b[0;34m]\u001b[0m\u001b[0;34m)\u001b[0m\u001b[0;34m,\u001b[0m \u001b[0mand_qbit\u001b[0m\u001b[0;34m(\u001b[0m\u001b[0mqc4\u001b[0m\u001b[0;34m,\u001b[0m \u001b[0mq\u001b[0m\u001b[0;34m[\u001b[0m\u001b[0;36m1\u001b[0m\u001b[0;34m]\u001b[0m\u001b[0;34m,\u001b[0m \u001b[0mq\u001b[0m\u001b[0;34m[\u001b[0m\u001b[0;36m2\u001b[0m\u001b[0;34m]\u001b[0m\u001b[0;34m)\u001b[0m\u001b[0;34m)\u001b[0m\u001b[0;34m,\u001b[0m \u001b[0mand_qbit\u001b[0m\u001b[0;34m(\u001b[0m\u001b[0mqc4\u001b[0m\u001b[0;34m,\u001b[0m \u001b[0mq\u001b[0m\u001b[0;34m[\u001b[0m\u001b[0;36m0\u001b[0m\u001b[0;34m]\u001b[0m\u001b[0;34m,\u001b[0m \u001b[0mq\u001b[0m\u001b[0;34m[\u001b[0m\u001b[0;36m2\u001b[0m\u001b[0;34m]\u001b[0m\u001b[0;34m)\u001b[0m\u001b[0;34m)\u001b[0m\u001b[0;34m,\u001b[0m \u001b[0;36m1\u001b[0m\u001b[0;34m)\u001b[0m\u001b[0;34m\u001b[0m\u001b[0m\n\u001b[0m\u001b[1;32m     46\u001b[0m \u001b[0;34m\u001b[0m\u001b[0m\n\u001b[1;32m     47\u001b[0m \u001b[0mdisplay\u001b[0m\u001b[0;34m(\u001b[0m\u001b[0mqc4\u001b[0m\u001b[0;34m.\u001b[0m\u001b[0mdraw\u001b[0m\u001b[0;34m(\u001b[0m\u001b[0;34m'mpl'\u001b[0m\u001b[0;34m)\u001b[0m\u001b[0;34m)\u001b[0m\u001b[0;34m\u001b[0m\u001b[0m\n",
      "\u001b[0;32m<ipython-input-25-9a079af9b292>\u001b[0m in \u001b[0;36mand_qbit\u001b[0;34m(qc, bit1, bit2, output)\u001b[0m\n\u001b[1;32m      6\u001b[0m \u001b[0;34m\u001b[0m\u001b[0m\n\u001b[1;32m      7\u001b[0m \u001b[0;32mdef\u001b[0m \u001b[0mand_qbit\u001b[0m\u001b[0;34m(\u001b[0m\u001b[0mqc\u001b[0m\u001b[0;34m,\u001b[0m \u001b[0mbit1\u001b[0m\u001b[0;34m,\u001b[0m \u001b[0mbit2\u001b[0m\u001b[0;34m,\u001b[0m \u001b[0moutput\u001b[0m \u001b[0;34m=\u001b[0m \u001b[0mQuantumRegister\u001b[0m\u001b[0;34m(\u001b[0m\u001b[0;36m1\u001b[0m\u001b[0;34m)\u001b[0m\u001b[0;34m)\u001b[0m\u001b[0;34m:\u001b[0m\u001b[0;34m\u001b[0m\u001b[0m\n\u001b[0;32m----> 8\u001b[0;31m     \u001b[0mqc\u001b[0m\u001b[0;34m.\u001b[0m\u001b[0madd_register\u001b[0m\u001b[0;34m(\u001b[0m\u001b[0moutput\u001b[0m\u001b[0;34m)\u001b[0m\u001b[0;34m\u001b[0m\u001b[0m\n\u001b[0m\u001b[1;32m      9\u001b[0m     \u001b[0mqc\u001b[0m\u001b[0;34m.\u001b[0m\u001b[0mbarrier\u001b[0m\u001b[0;34m(\u001b[0m\u001b[0;34m)\u001b[0m\u001b[0;34m\u001b[0m\u001b[0m\n\u001b[1;32m     10\u001b[0m     \u001b[0mqc\u001b[0m\u001b[0;34m.\u001b[0m\u001b[0mccx\u001b[0m\u001b[0;34m(\u001b[0m\u001b[0mbit1\u001b[0m\u001b[0;34m,\u001b[0m \u001b[0mbit2\u001b[0m\u001b[0;34m,\u001b[0m \u001b[0moutput\u001b[0m\u001b[0;34m)\u001b[0m\u001b[0;34m\u001b[0m\u001b[0m\n",
      "\u001b[0;32m~/opt/miniconda3/envs/cse468/lib/python3.7/site-packages/qiskit/circuit/quantumcircuit.py\u001b[0m in \u001b[0;36madd_register\u001b[0;34m(self, *regs)\u001b[0m\n\u001b[1;32m   1447\u001b[0m                 \u001b[0mregister\u001b[0m\u001b[0;34m.\u001b[0m\u001b[0mname\u001b[0m \u001b[0;34m==\u001b[0m \u001b[0mreg\u001b[0m\u001b[0;34m.\u001b[0m\u001b[0mname\u001b[0m \u001b[0;32mfor\u001b[0m \u001b[0mreg\u001b[0m \u001b[0;32min\u001b[0m \u001b[0mself\u001b[0m\u001b[0;34m.\u001b[0m\u001b[0mqregs\u001b[0m \u001b[0;34m+\u001b[0m \u001b[0mself\u001b[0m\u001b[0;34m.\u001b[0m\u001b[0mcregs\u001b[0m\u001b[0;34m\u001b[0m\u001b[0m\n\u001b[1;32m   1448\u001b[0m             ):\n\u001b[0;32m-> 1449\u001b[0;31m                 \u001b[0;32mraise\u001b[0m \u001b[0mCircuitError\u001b[0m\u001b[0;34m(\u001b[0m\u001b[0;34m'register name \"%s\" already exists'\u001b[0m \u001b[0;34m%\u001b[0m \u001b[0mregister\u001b[0m\u001b[0;34m.\u001b[0m\u001b[0mname\u001b[0m\u001b[0;34m)\u001b[0m\u001b[0;34m\u001b[0m\u001b[0m\n\u001b[0m\u001b[1;32m   1450\u001b[0m \u001b[0;34m\u001b[0m\u001b[0m\n\u001b[1;32m   1451\u001b[0m             \u001b[0;32mif\u001b[0m \u001b[0misinstance\u001b[0m\u001b[0;34m(\u001b[0m\u001b[0mregister\u001b[0m\u001b[0;34m,\u001b[0m \u001b[0mAncillaRegister\u001b[0m\u001b[0;34m)\u001b[0m\u001b[0;34m:\u001b[0m\u001b[0;34m\u001b[0m\u001b[0m\n",
      "\u001b[0;31mCircuitError\u001b[0m: 'register name \"q25\" already exists'"
     ]
    }
   ],
   "source": [
    "q4 = QuantumRegister(3,'q')\n",
    "c4 = ClassicalRegister(2,'c')\n",
    "qc4 = QuantumCircuit(q4,c4)\n",
    "\n",
    "qc4.x(q4[0])\n",
    "qc4.x(q4[1])\n",
    "qc4.x(q4[2])\n",
    "\n",
    "#calculate S\n",
    "temp_sum = QuantumRegister(1, \"s\")\n",
    "qc4.add_register(temp_sum)\n",
    "qc4.cx(q4[0], temp_sum)\n",
    "qc4.cx(q4[1], temp_sum)\n",
    "qc4.cx(q4[2], temp_sum)\n",
    "qc4.measure(temp_sum, 0)\n",
    "\n",
    "qc4.barrier()\n",
    "\n",
    "\n",
    "#calculate C (1 if 2+ arguments of a,b,c are 1)\n",
    "# temp_and = QuantumRegister(1, 'and_result')\n",
    "# and_qbit(qc4, q[0], q[1], temp_and)\n",
    "\n",
    "# temp_and2 = QuantumRegister(1, 'and_result2')\n",
    "# and_qbit(qc4, q[1], q[2], temp_and2)\n",
    "\n",
    "# temp_and3 = QuantumRegister(1, 'and_result3')\n",
    "# and_qbit(qc4, q[0], q[2], temp_and3)\n",
    "\n",
    "# temp_or = QuantumRegister(1, 'or_result')\n",
    "# or_qbit(qc4, temp_and, temp_and2, temp_or)\n",
    "\n",
    "# temp_or2 = QuantumRegister(1, 'carry')\n",
    "# or_qbit(qc4, temp_or, temp_and3, temp_or2)\n",
    "\n",
    "\n",
    "\n",
    "\n",
    "\n",
    "\n",
    "\n",
    "# or(or(and,and),and)\n",
    "\n",
    "\n",
    "qc4.measure(or_qbit(qc4, or_qbit(qc4, and_qbit(qc4, q[0], q[1]), and_qbit(qc4, q[1], q[2])), and_qbit(qc4, q[0], q[2])), 1)\n",
    "\n",
    "display(qc4.draw('mpl'))\n",
    "\n"
   ]
  },
  {
   "cell_type": "code",
   "execution_count": 26,
   "metadata": {},
   "outputs": [
    {
     "name": "stdout",
     "output_type": "stream",
     "text": [
      "RESULT:  {'11': 1} \n",
      "\n"
     ]
    }
   ],
   "source": [
    "backend = provider.get_backend(\"ibmq_qasm_simulator\")\n",
    "job = execute(qc4, backend, shots=1)\n",
    "result = job.result()\n",
    "counts = result.get_counts(qc4)\n",
    "print(\"RESULT: \",counts,\"\\n\")"
   ]
  },
  {
   "cell_type": "markdown",
   "metadata": {},
   "source": [
    "# Methods for recursive logic gate calls"
   ]
  },
  {
   "cell_type": "code",
   "execution_count": 5,
   "metadata": {},
   "outputs": [
    {
     "data": {
      "image/png": "[encoded data removed]",
      "text/plain": [
       "<Figure size 1074.69x445.48 with 1 Axes>"
      ]
     },
     "metadata": {},
     "output_type": "display_data"
    }
   ],
   "source": [
    "# methods for executing recursive and, or, not, nand gate calls\n",
    "\n",
    "q_rec = QuantumRegister(3,'q')\n",
    "c_rec = ClassicalRegister(3,'c')\n",
    "qc_rec = QuantumCircuit(q_rec,c_rec)\n",
    "\n",
    "\n",
    "def recursive_and(qc):\n",
    "    len = qc.num_qubits\n",
    "    count = 0\n",
    "    for i in range(len):\n",
    "        x = i + 1\n",
    "        for j in range(x, len):\n",
    "            count = count + 1\n",
    "            and_qbit(qc, qc.qubits[i], qc.qubits[j], output=QuantumRegister(1, \"and_holder\" + str(count)))\n",
    "\n",
    "def recursive_or(qc):\n",
    "    len = qc.num_qubits\n",
    "    count = 0\n",
    "    for i in range(len):\n",
    "        x = i + 1\n",
    "        for j in range(x, len):\n",
    "            count = count + 1\n",
    "            or_qbit(qc, qc.qubits[i], qc.qubits[j], output=QuantumRegister(1, \"or_holder\" + str(count)))\n",
    "\n",
    "def recursive_not(qc):\n",
    "    len = qc.num_qubits\n",
    "    for i in range(len):\n",
    "        not_qbit(qc, qc.qubits[i], output=QuantumRegister(1, \"not_holder\" + str(i)))\n",
    "\n",
    "def recursive_nand(qc):\n",
    "    len = qc.num_qubits\n",
    "    count = 0\n",
    "    for i in range(len):\n",
    "        x = i + 1\n",
    "        for j in range(x, len):\n",
    "            count = count + 1\n",
    "            nand_qbit(qc, qc.qubits[i], qc.qubits[j], output=QuantumRegister(1, \"nand_holder\" + str(count)))\n",
    "\n",
    "\n",
    "recursive_or(qc_rec)\n",
    "display(qc_rec.draw('mpl'))\n",
    "recursive_and(qc_rec)\n",
    "#display(qc_rec.draw('mpl'))\n",
    "recursive_nand(qc_rec)\n",
    "#display(qc_rec.draw('mpl'))\n",
    "recursive_not(qc_rec)\n",
    "#display(qc_rec.draw('mpl'))\n",
    "\n"
   ]
  },
  {
   "cell_type": "markdown",
   "metadata": {},
   "source": [
    "# K bit Quantum Adder from two integers"
   ]
  },
  {
   "cell_type": "code",
   "execution_count": 24,
   "metadata": {},
   "outputs": [
    {
     "name": "stdout",
     "output_type": "stream",
     "text": [
      "111 10001\n",
      "00111 10001\n"
     ]
    },
    {
     "data": {
      "image/png": "[encoded data removed]",
      "text/plain": [
       "<Figure size 173.34x1047.48 with 1 Axes>"
      ]
     },
     "metadata": {},
     "output_type": "display_data"
    }
   ],
   "source": [
    "#given two integer values, build a quantum circuit to add them together\n",
    "def adder(val1, val2):\n",
    "    \n",
    "    #------------ circuit initialization ------------\n",
    "    \n",
    "    bval = bin(val1)[2:]\n",
    "    bval2 = bin(val2)[2:]\n",
    "    print(bval, bval2)\n",
    "    reg_len = max(len(bval), len(bval2))\n",
    "    num_1 = QuantumRegister(reg_len) #qubits needed to represent first number\n",
    "    num_2 = QuantumRegister(reg_len + 1) #qubits needed to represent second number & potential extra qubit for sum\n",
    "    carry = QuantumRegister(reg_len) #qubits for carry bits\n",
    "    class_holder = ClassicalRegister(reg_len + 1) #measurements result in sum\n",
    "    qc = QuantumCircuit(num_1, num_2, carry, class_holder)\n",
    "\n",
    "    #------------ normalizing binary strings to common length ------------\n",
    "\n",
    "    diff = abs(len(bval) - len(bval2))\n",
    "    prep = ''\n",
    "    for i in range(diff):\n",
    "        prep = prep + '0'\n",
    "    if(len(bval) < len(bval2)): #normalize binary strings by prepending 0s\n",
    "        bval = prep + bval\n",
    "    elif(len(bval2) < len(bval)):\n",
    "        bval2 = prep + bval2\n",
    "    print(bval, bval2)\n",
    "\n",
    "\n",
    "    #------------ transpose classical numbers to quantum bits ------------\n",
    "    for j in range(len(bval)):\n",
    "        if bval[j] == '1':\n",
    "            qc.x(j)\n",
    "    # for k in range(len(bval2)):\n",
    "        if bval2[j] == '1':\n",
    "            qc.x(len(num_1) + j)\n",
    "\n",
    "    #----------- adder function ----------\n",
    "    for j in range(len(bval)):\n",
    "        if j == 0:\n",
    "            sum, cOut = adder_func(qc, bval[j], bval2[j])\n",
    "        else:\n",
    "            sum, cOut = adder_func(qc, bval[j], bval2[j], cIn=cOut)\n",
    "    qc.measure(cOut)\n",
    "    \n",
    "    display(qc.draw('mpl'))\n",
    "\n",
    "    \n",
    "\n",
    "\n",
    "adder(7, 17)"
   ]
  }
 ],
 "metadata": {
  "kernelspec": {
   "display_name": "Python 3",
   "language": "python",
   "name": "python3"
  },
  "language_info": {
   "codemirror_mode": {
    "name": "ipython",
    "version": 3
   },
   "file_extension": ".py",
   "mimetype": "text/x-python",
   "name": "python",
   "nbconvert_exporter": "python",
   "pygments_lexer": "ipython3",
   "version": "3.7.0"
  }
 },
 "nbformat": 4,
 "nbformat_minor": 2
}
